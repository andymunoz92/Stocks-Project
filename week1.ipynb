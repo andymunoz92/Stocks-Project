{
 "cells": [
  {
   "cell_type": "markdown",
   "id": "d860d213",
   "metadata": {},
   "source": [
    "# Week1"
   ]
  },
  {
   "cell_type": "markdown",
   "id": "372ae35d",
   "metadata": {},
   "source": [
    "Since I am not familiar with the stock market, I will not be making any trades this week. Instead, I will focus on learning about the different indicators that makes a stock lucrative as well as the different aspects that drives a stock to either gain or lose value. I will, also, look into the different machine learning algorithms to determine if I should in invest in a stock or not."
   ]
  }
 ],
 "metadata": {
  "kernelspec": {
   "display_name": "Python 3",
   "language": "python",
   "name": "python3"
  },
  "language_info": {
   "codemirror_mode": {
    "name": "ipython",
    "version": 3
   },
   "file_extension": ".py",
   "mimetype": "text/x-python",
   "name": "python",
   "nbconvert_exporter": "python",
   "pygments_lexer": "ipython3",
   "version": "3.8.8"
  }
 },
 "nbformat": 4,
 "nbformat_minor": 5
}

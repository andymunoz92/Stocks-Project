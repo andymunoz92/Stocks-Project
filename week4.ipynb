{
 "cells": [
  {
   "cell_type": "markdown",
   "id": "328418ec",
   "metadata": {},
   "source": [
    "# Week 4\n",
    "\n",
    "This week, I will use two different models, a Support Vector Regression model and a Linear Regression model, to make predictions about a stock. I will, also, use the top 3 stocks, with the highest market cap, in the Healthcare sector to determine wether a stock is worth investing and to continue broadening my portfolio."
   ]
  },
  {
   "cell_type": "code",
   "execution_count": null,
   "id": "42e2454c",
   "metadata": {
    "scrolled": true
   },
   "outputs": [],
   "source": [
    "# Install dependencies\n",
    "\n",
    "import yfinance as yf\n",
    "import numpy as np\n",
    "from sklearn.linear_model import LinearRegression\n",
    "from sklearn.svm import SVR\n",
    "from sklearn.model_selection import train_test_split\n",
    "import matplotlib.pyplot as plt\n",
    "import warnings\n",
    "warnings.filterwarnings(\"ignore\")\n",
    "\n",
    "def svm(ticker, start_date, end_date, n):\n",
    "    \n",
    "    df = yf.download(ticker, start_date, end_date)\n",
    "    print()\n",
    "    print(\"Company: \", ticker) \n",
    "    \n",
    "    # Get the Adjusted Close Price\n",
    "    df = df[['Adj Close']]\n",
    "    \n",
    "    # A variable for predicting 'n' days out into the\n",
    "    forecast_out = n\n",
    "\n",
    "    # Create another column (the target or dependent variable) shifted 'n' units up\n",
    "    df['Prediction'] = df[['Adj Close']].shift(-forecast_out)\n",
    "    \n",
    "    # Convert the dataframe to a numpy array\n",
    "    X = np.array(df.drop(['Prediction'], 1))\n",
    "\n",
    "    #Remove the last 'n' rows\n",
    "    X = X[:-forecast_out]\n",
    "\n",
    "    # Convert the dataframe to a numpy with all values including NaN's\n",
    "    y = np.array(df['Prediction'])\n",
    "    y = y[:-forecast_out]\n",
    "\n",
    "    # Split the data into 80% training and 20% testing\n",
    "    x_train, x_test, y_train, y_test = train_test_split(X, y, test_size=0.2)\n",
    "\n",
    "    # Create and train the Support Vector Machine (Regressor)\n",
    "    svr_rbf = SVR(kernel='rbf', C=1e3, gamma=0.1)\n",
    "    svr_rbf.fit(x_train, y_train)\n",
    "    \n",
    "    # Create and train the Linear Regression Model\n",
    "    lr = LinearRegression()\n",
    "\n",
    "    # Train the model\n",
    "    lr.fit(x_train, y_train)\n",
    "\n",
    "    # Testing Model: Score returns the coefficient of determination R^2 of the prediction.\n",
    "    # The best possible score is 1.0\n",
    "    svm_confidence = svr_rbf.score(x_test, y_test)\n",
    "    print()\n",
    "    print(\"Support Vector Regression confidence: \", svm_confidence)\n",
    "    \n",
    "    # Testing Model: Score returns the coefficient of determination R^2 of the prediction.\n",
    "    # The best possible score is 1.0\n",
    "    lr_confidence = lr.score(x_test, y_test)\n",
    "    print(\"Linear confidence: \", lr_confidence)\n",
    "\n",
    "\n",
    "    # Set x_forecast equal to the last 'n' rows of the original data set from the\n",
    "    # Adj. Close column\n",
    "    x_forecast = np.array(df.drop(['Prediction'],1))[-forecast_out:]\n",
    "    print()\n",
    "    print(\"Last 'n' rows of our data to make predictions\")\n",
    "    print(x_forecast)\n",
    "    print()\n",
    "    \n",
    "    # Print support vector regressor model predictions for the next 'n' days\n",
    "    svm_prediction = svr_rbf.predict(x_forecast)\n",
    "    print(\"Support vector regression prediction\")\n",
    "    print(svm_prediction)\n",
    "    \n",
    "    # Print linear regression model predictions for the next 'n' days\n",
    "    lr_prediction = lr.predict(x_forecast)\n",
    "    print()\n",
    "    print(\"Linear regression prediction\")\n",
    "    print(lr_prediction)\n",
    "    print()"
   ]
  },
  {
   "cell_type": "code",
   "execution_count": null,
   "id": "7c7d6375",
   "metadata": {
    "scrolled": false
   },
   "outputs": [],
   "source": [
    "start_date = '2016-12-10'\n",
    "end_date = '2021-12-10'\n",
    "\n",
    "# Top 3 companies, in the Healthcare sector, with the higest market cap\n",
    "# United Health, CVS Health, Anthem\n",
    "tickers = ['UNH', 'CVS', 'ANTM']\n",
    "\n",
    "for ticker in tickers:\n",
    "    svm(ticker, start_date, end_date, 7)"
   ]
  },
  {
   "cell_type": "markdown",
   "id": "f7c6b615",
   "metadata": {},
   "source": [
    "#### It looks like the healthcare sector isn't doing so well, so I will withold from making any investments and continue to monitor my stocks while analyzing differrent sectors of the markets to make any final investments."
   ]
  },
  {
   "cell_type": "code",
   "execution_count": null,
   "id": "b2788d93",
   "metadata": {},
   "outputs": [],
   "source": []
  }
 ],
 "metadata": {
  "kernelspec": {
   "display_name": "Python 3",
   "language": "python",
   "name": "python3"
  },
  "language_info": {
   "codemirror_mode": {
    "name": "ipython",
    "version": 3
   },
   "file_extension": ".py",
   "mimetype": "text/x-python",
   "name": "python",
   "nbconvert_exporter": "python",
   "pygments_lexer": "ipython3",
   "version": "3.8.8"
  }
 },
 "nbformat": 4,
 "nbformat_minor": 5
}
